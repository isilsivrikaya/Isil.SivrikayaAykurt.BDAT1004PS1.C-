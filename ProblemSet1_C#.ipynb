{
 "cells": [
  {
   "cell_type": "code",
   "execution_count": 4,
   "id": "3a5df67f",
   "metadata": {},
   "outputs": [
    {
     "name": "stdout",
     "output_type": "stream",
     "text": [
      "Data Type of 5 is: System.Int32\n",
      "Data Type of 5.0 is: System.Double\n",
      "Data Type of '5' is: System.Char\n",
      "Data Type of '5' * 2 is: System.Int32\n",
      "Data Type of '5' + '2' is: System.Int32\n",
      "Data Type of 5 / 2 is: System.Int32\n",
      "Data Type of 5 % 2 is: System.Int32\n"
     ]
    }
   ],
   "source": [
    "// Question 1 C#\n",
    "/*\n",
    " 5 --> Value-Predefined-Integer\n",
    "5.0 --> Value-Predefined-Double\n",
    "5 > 1 --> Relational Operator-Boolean\n",
    "'5' --> Value-Predefined-Character\n",
    "5 * 2 --> Arithmatic Operator-Result:Integer\n",
    "'5' * 2 --> Arithmatic Operator-Result:Integer\n",
    "'5' + '2' --> Arithmatic Operator-Result:Integer\n",
    "5 / 2 --> Arithmatic Operator-Result:Double\n",
    "5 % 2 --> Arithmatic Operator-Result:Integer\n",
    "{5, 2, 1} --> Array\n",
    "5 == 3 --> Relational Operator-Boolean\n",
    "Pi (the number) --> Long\n",
    " */\n",
    "\n",
    "\n",
    "var a = 5;\n",
    "Console.WriteLine(\"Data Type of 5 is: \" + a.GetType());\n",
    "var b = 5.0;\n",
    "Console.WriteLine(\"Data Type of 5.0 is: \" + b.GetType());\n",
    "var c = '5';\n",
    "Console.WriteLine(\"Data Type of '5' is: \" + c.GetType());\n",
    "var d = '5' * 2;\n",
    "Console.WriteLine(\"Data Type of '5' * 2 is: \" + d.GetType());\n",
    "var e = '5' + '2';\n",
    "Console.WriteLine(\"Data Type of '5' + '2' is: \" + e.GetType());\n",
    "var f = 5 / 2;\n",
    "Console.WriteLine(\"Data Type of 5 / 2 is: \" + f.GetType());\n",
    "var g = 5 % 2;\n",
    "Console.WriteLine(\"Data Type of 5 % 2 is: \" + g.GetType());"
   ]
  },
  {
   "cell_type": "code",
   "execution_count": 5,
   "id": "738cb58f",
   "metadata": {},
   "outputs": [
    {
     "name": "stdout",
     "output_type": "stream",
     "text": [
      "There are 34 letters in 'Supercalifragilisticexpialidocious'. \r\n"
     ]
    }
   ],
   "source": [
    "//Question 2 C#\n",
    "//a. How many letters are there in 'Supercalifragilisticexpialidocious'?\n",
    "\n",
    "string word = \"Supercalifragilisticexpialidocious\";\n",
    "int letterCount = 0;\n",
    "foreach (char letter in word)\n",
    "{\n",
    "    letterCount++;\n",
    "}\n",
    "Console.WriteLine(\"There are \" + letterCount + \" letters in 'Supercalifragilisticexpialidocious'. \");"
   ]
  },
  {
   "cell_type": "code",
   "execution_count": 6,
   "id": "1f08463a",
   "metadata": {},
   "outputs": [
    {
     "name": "stdout",
     "output_type": "stream",
     "text": [
      "'Supercalifragilisticexpialidocious' CONTAINS 'ice' as a substring.\r\n"
     ]
    }
   ],
   "source": [
    "//b. Does 'Supercalifragilisticexpialidocious' contain 'ice' as a substring?\n",
    "string shortWord = \"ice\";\n",
    "int result = String.Compare(shortWord, word);\n",
    "if (result==-1)\n",
    "{\n",
    "    Console.WriteLine(\"'Supercalifragilisticexpialidocious' CONTAINS 'ice' as a substring.\");\n",
    "}else\n",
    "{\n",
    "    Console.WriteLine(\"'Supercalifragilisticexpialidocious' DOESN'T cONTAIN 'ice' as a substring.\");\n",
    "}"
   ]
  },
  {
   "cell_type": "code",
   "execution_count": 7,
   "id": "f22e12f6",
   "metadata": {},
   "outputs": [
    {
     "name": "stdout",
     "output_type": "stream",
     "text": [
      "Supercalifragilisticexpialidocious is the longest word.\r\n"
     ]
    }
   ],
   "source": [
    "//c. Which of the following words is the longest: Supercalifragilisticexpialidocious, Honorificabilitudinitatibus,\n",
    "//or Bababadalgharaghtakamminarronnkonn?\n",
    "\n",
    "string[] words = { \"Supercalifragilisticexpialidocious\", \"Honorificabilitudinitatibus\", \"Bababadalgharaghtakamminarronnkonn\" };\n",
    "string longestWord = null;\n",
    "int lenght = 0;\n",
    "foreach (string word2 in words)\n",
    "{\n",
    "    if (word2.Length > lenght)\n",
    "    {\n",
    "        longestWord = word2;\n",
    "        lenght = word2.Length;\n",
    "    }\n",
    "}\n",
    "Console.WriteLine(longestWord + \" is the longest word.\");"
   ]
  },
  {
   "cell_type": "code",
   "execution_count": 8,
   "id": "446efa42",
   "metadata": {},
   "outputs": [
    {
     "name": "stdout",
     "output_type": "stream",
     "text": [
      "Bartok comes FIRST in the dictionary.\n",
      "Buxtehude comes LAST in the dictionary.\n"
     ]
    }
   ],
   "source": [
    "//d. Which composer comes first in the dictionary: 'Berlioz', 'Borodin', 'Brian', 'Bartok', 'Bellini', 'Buxtehude', 'Bernstein'.\n",
    "//Which one comes last?\n",
    "\n",
    "string[] dictionary = new string[7];\n",
    "dictionary[0] = \"Berlioz\";\n",
    "dictionary[1] = \"Borodin\";\n",
    "dictionary[2] = \"Brian\";\n",
    "dictionary[3] = \"Bartok\";\n",
    "dictionary[4] = \"Bellini\";\n",
    "dictionary[5] = \"Buxtehude\";\n",
    "dictionary[6] = \"Bernstein\";\n",
    "Array.Sort(dictionary);\n",
    "Console.WriteLine(dictionary.First() + \" comes FIRST in the dictionary.\");\n",
    "Console.WriteLine(dictionary.Last() + \" comes LAST in the dictionary.\");"
   ]
  },
  {
   "cell_type": "code",
   "execution_count": null,
   "id": "2ddd64e3",
   "metadata": {},
   "outputs": [],
   "source": [
    "//Question 3 C#\n",
    "/*\n",
    "Implement function triangleArea(a,b,c) that takes as input the lengths of the 3 \n",
    "sides of a triangle and returns the area of the triangle. By Heron's formula, the area \n",
    "of a triangle with side lengths a, b, and c is s(s − a)(s −b)(s −c), where\n",
    "s = (a + b + c)/2.\n",
    ">>> triangleArea(2,2,2) \n",
    "1.7320508075688772\n",
    " */\n",
    "internal class Question3\n",
    "{\n",
    "\n",
    "    public void triangleArea(double a, double b, double c)\n",
    "    {\n",
    "\n",
    "        double s = (a + b + c) / 2;\n",
    "        double area = Math.Sqrt(s * (s - a) * (s - b) * (s - c));\n",
    "\n",
    "        Console.WriteLine(\"By Heron's formula, the area of your triangle is: \" + area);\n",
    "\n",
    "    }\n",
    "\n",
    "\n",
    "}\n",
    "Question3 heron = new Question3();\n",
    "Console.WriteLine(\"Please enter the lenght of the 1st side of the triangle\");\n",
    "double x = double.Parse(Console.ReadLine());\n",
    "Console.WriteLine(\"Please enter the lenght of the 2nd side of the triangle\");\n",
    "double y = double.Parse(Console.ReadLine());\n",
    "Console.WriteLine(\"Please enter the lenght of the 1st side of the triangle\");\n",
    "double z = double.Parse(Console.ReadLine());\n",
    "heron.triangleArea(x, y, z);\n",
    "\n",
    "//This works in Visual Studio but doesn't show any results here."
   ]
  },
  {
   "cell_type": "code",
   "execution_count": 1,
   "id": "715048f1",
   "metadata": {},
   "outputs": [
    {
     "data": {
      "text/html": [
       "\r\n",
       "<div>\r\n",
       "    <div id='dotnet-interactive-this-cell-8244.Microsoft.DotNet.Interactive.Http.HttpPort' style='display: none'>\r\n",
       "        The below script needs to be able to find the current output cell; this is an easy method to get it.\r\n",
       "    </div>\r\n",
       "    <script type='text/javascript'>\r\n",
       "async function probeAddresses(probingAddresses) {\r\n",
       "    function timeout(ms, promise) {\r\n",
       "        return new Promise(function (resolve, reject) {\r\n",
       "            setTimeout(function () {\r\n",
       "                reject(new Error('timeout'))\r\n",
       "            }, ms)\r\n",
       "            promise.then(resolve, reject)\r\n",
       "        })\r\n",
       "    }\r\n",
       "\r\n",
       "    if (Array.isArray(probingAddresses)) {\r\n",
       "        for (let i = 0; i < probingAddresses.length; i++) {\r\n",
       "\r\n",
       "            let rootUrl = probingAddresses[i];\r\n",
       "\r\n",
       "            if (!rootUrl.endsWith('/')) {\r\n",
       "                rootUrl = `${rootUrl}/`;\r\n",
       "            }\r\n",
       "\r\n",
       "            try {\r\n",
       "                let response = await timeout(1000, fetch(`${rootUrl}discovery`, {\r\n",
       "                    method: 'POST',\r\n",
       "                    cache: 'no-cache',\r\n",
       "                    mode: 'cors',\r\n",
       "                    timeout: 1000,\r\n",
       "                    headers: {\r\n",
       "                        'Content-Type': 'text/plain'\r\n",
       "                    },\r\n",
       "                    body: probingAddresses[i]\r\n",
       "                }));\r\n",
       "\r\n",
       "                if (response.status == 200) {\r\n",
       "                    return rootUrl;\r\n",
       "                }\r\n",
       "            }\r\n",
       "            catch (e) { }\r\n",
       "        }\r\n",
       "    }\r\n",
       "}\r\n",
       "\r\n",
       "function loadDotnetInteractiveApi() {\r\n",
       "    probeAddresses([\"http://192.168.153.1:1001/\", \"http://192.168.76.1:1001/\", \"http://192.168.1.38:1001/\", \"http://127.0.0.1:1001/\"])\r\n",
       "        .then((root) => {\r\n",
       "        // use probing to find host url and api resources\r\n",
       "        // load interactive helpers and language services\r\n",
       "        let dotnetInteractiveRequire = require.config({\r\n",
       "        context: '8244.Microsoft.DotNet.Interactive.Http.HttpPort',\r\n",
       "                paths:\r\n",
       "            {\r\n",
       "                'dotnet-interactive': `${root}resources`\r\n",
       "                }\r\n",
       "        }) || require;\r\n",
       "\r\n",
       "            window.dotnetInteractiveRequire = dotnetInteractiveRequire;\r\n",
       "\r\n",
       "            window.configureRequireFromExtension = function(extensionName, extensionCacheBuster) {\r\n",
       "                let paths = {};\r\n",
       "                paths[extensionName] = `${root}extensions/${extensionName}/resources/`;\r\n",
       "                \r\n",
       "                let internalRequire = require.config({\r\n",
       "                    context: extensionCacheBuster,\r\n",
       "                    paths: paths,\r\n",
       "                    urlArgs: `cacheBuster=${extensionCacheBuster}`\r\n",
       "                    }) || require;\r\n",
       "\r\n",
       "                return internalRequire\r\n",
       "            };\r\n",
       "        \r\n",
       "            dotnetInteractiveRequire([\r\n",
       "                    'dotnet-interactive/dotnet-interactive'\r\n",
       "                ],\r\n",
       "                function (dotnet) {\r\n",
       "                    dotnet.init(window);\r\n",
       "                },\r\n",
       "                function (error) {\r\n",
       "                    console.log(error);\r\n",
       "                }\r\n",
       "            );\r\n",
       "        })\r\n",
       "        .catch(error => {console.log(error);});\r\n",
       "    }\r\n",
       "\r\n",
       "// ensure `require` is available globally\r\n",
       "if ((typeof(require) !==  typeof(Function)) || (typeof(require.config) !== typeof(Function))) {\r\n",
       "    let require_script = document.createElement('script');\r\n",
       "    require_script.setAttribute('src', 'https://cdnjs.cloudflare.com/ajax/libs/require.js/2.3.6/require.min.js');\r\n",
       "    require_script.setAttribute('type', 'text/javascript');\r\n",
       "    \r\n",
       "    \r\n",
       "    require_script.onload = function() {\r\n",
       "        loadDotnetInteractiveApi();\r\n",
       "    };\r\n",
       "\r\n",
       "    document.getElementsByTagName('head')[0].appendChild(require_script);\r\n",
       "}\r\n",
       "else {\r\n",
       "    loadDotnetInteractiveApi();\r\n",
       "}\r\n",
       "\r\n",
       "    </script>\r\n",
       "</div>"
      ]
     },
     "metadata": {},
     "output_type": "display_data"
    },
    {
     "name": "stdout",
     "output_type": "stream",
     "text": [
      "The Even elements are:\n",
      "42\n",
      "56\n",
      "32\n",
      "The Odd elements are:\n",
      "25\n",
      "47\n"
     ]
    }
   ],
   "source": [
    "//Question 4 C#\n",
    "//Write a program in C# Sharp to separate odd and even integers in separate arrays.\n",
    "int[] allNumbers = new int[5];\n",
    "allNumbers[0] = 25;\n",
    "allNumbers[1] = 47;\n",
    "allNumbers[2] = 42;\n",
    "allNumbers[3] = 56;\n",
    "allNumbers[4] = 32;\n",
    "\n",
    "Console.WriteLine(\"The Even elements are:\");\n",
    "for (int i = 0; i < allNumbers.Length; i++)\n",
    "{\n",
    "    if (allNumbers[i] % 2 == 0)\n",
    "    {\n",
    "        Console.WriteLine(allNumbers[i]);\n",
    "\n",
    "    }\n",
    "}\n",
    "\n",
    "Console.WriteLine(\"The Odd elements are:\");\n",
    "for (int i = 0; i < allNumbers.Length; i++)\n",
    "{\n",
    "    if (allNumbers[i] % 2 == 1)\n",
    "    {\n",
    "        Console.WriteLine(allNumbers[i]);\n",
    "\n",
    "    }\n",
    "}\n"
   ]
  },
  {
   "cell_type": "code",
   "execution_count": 7,
   "id": "2075fa63",
   "metadata": {},
   "outputs": [],
   "source": [
    "//Question 5\n",
    "/*a. Write a function inside(x,y,x1,y1,x2,y2) that returns True or False depending on whether the point(x, y) lies in the\n",
    "rectangle with lower left corner(x1, y1) and upper right corner (x2, y2).\n",
    " */\n",
    "\n",
    "internal class Question5\n",
    "    {\n",
    "        public bool inside(double x, double y, double x1, double y1, double x2, double y2)\n",
    "        {\n",
    "            if (x > x1 && x < x2 && y > y1 && y < y2)\n",
    "                return true;\n",
    "\n",
    "            return false;\n",
    "        }\n",
    "\n",
    "        \n",
    "    }\n"
   ]
  },
  {
   "cell_type": "code",
   "execution_count": 8,
   "id": "9409c745",
   "metadata": {},
   "outputs": [
    {
     "name": "stdout",
     "output_type": "stream",
     "text": [
      "True\n",
      "False\n"
     ]
    }
   ],
   "source": [
    "/* >>> inside(1,1,0,0,2,3)\n",
    "True\n",
    ">>> inside(-1,-1,0,0,2,3)\n",
    "False\n",
    "*/\n",
    "Question5 rectangle = new Question5();\n",
    "\n",
    "if (rectangle.inside (1,1,0,0,2,3))\n",
    "    Console.WriteLine(\"True\");\n",
    "else\n",
    "    Console.WriteLine(\"False\");\n",
    "\n",
    "if (rectangle.inside(-1, -1, 0, 0, 2, 3))\n",
    "    Console.WriteLine(\"True\");\n",
    "else\n",
    "    Console.WriteLine(\"False\");"
   ]
  },
  {
   "cell_type": "code",
   "execution_count": 9,
   "id": "c6d07979",
   "metadata": {},
   "outputs": [
    {
     "name": "stdout",
     "output_type": "stream",
     "text": [
      "False\n",
      "True\n"
     ]
    }
   ],
   "source": [
    "//b. Use function inside()from part a. to write an expression that tests whether the point(1,1)\n",
    "//lies in both of the following rectangles: one with lower left corner (0.3, 0.5) and upper right corner (1.1, 0.7)\n",
    "//and the other with lower left corner (0.5, 0.2) and upper right corner (1.1, 2).\n",
    "\n",
    "if (rectangle.inside(1, 1, 0.3, 0.5, 1.1, 0.7))\n",
    "    Console.WriteLine(\"True\");\n",
    "else\n",
    "    Console.WriteLine(\"False\");\n",
    "\n",
    "if (rectangle.inside(1, 1, 0.5, 0.2, 1.1, 2))\n",
    "    Console.WriteLine(\"True\");\n",
    "else\n",
    "    Console.WriteLine(\"False\");"
   ]
  },
  {
   "cell_type": "code",
   "execution_count": null,
   "id": "930fc663",
   "metadata": {},
   "outputs": [],
   "source": []
  }
 ],
 "metadata": {
  "kernelspec": {
   "display_name": ".NET (C#)",
   "language": "C#",
   "name": ".net-csharp"
  },
  "language_info": {
   "file_extension": ".cs",
   "mimetype": "text/x-csharp",
   "name": "C#",
   "pygments_lexer": "csharp",
   "version": "10.0"
  }
 },
 "nbformat": 4,
 "nbformat_minor": 5
}
